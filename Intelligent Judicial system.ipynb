{
 "cells": [
  {
   "cell_type": "markdown",
   "metadata": {},
   "source": [
    "## Intelligent Judicial System\n",
    "### Python Version 2\n",
    "###### Done By:\n",
    "###### Anurag Gate\n",
    "###### Bhakti Mehta\n",
    "###### Yugal Karamchandani\n"
   ]
  },
  {
   "cell_type": "markdown",
   "metadata": {},
   "source": [
    "#### Importing necessary libraries:"
   ]
  },
  {
   "cell_type": "code",
   "execution_count": 1,
   "metadata": {},
   "outputs": [],
   "source": [
    "import itertools\n",
    "import statsmodels.api as sm\n",
    "from sklearn.metrics import accuracy_score\n",
    "import pandas as pd\n",
    "from sklearn.utils import shuffle\n",
    "import numpy as np\n",
    "from sklearn.metrics import confusion_matrix\n",
    "import matplotlib.pyplot as plt\n",
    "import seaborn as sns"
   ]
  },
  {
   "cell_type": "markdown",
   "metadata": {},
   "source": [
    "#### Reading required datasets and getting rid of invalid columns that provide no information regarding true value:"
   ]
  },
  {
   "cell_type": "code",
   "execution_count": 2,
   "metadata": {},
   "outputs": [
    {
     "name": "stderr",
     "output_type": "stream",
     "text": [
      "C:\\Users\\Anurag Gate\\Anaconda2\\lib\\site-packages\\ipykernel_launcher.py:1: FutureWarning: from_csv is deprecated. Please use read_csv(...) instead. Note that some of the default arguments are different, so please refer to the documentation for from_csv when changing your function calls\n",
      "  \"\"\"Entry point for launching an IPython kernel.\n",
      "C:\\Users\\Anurag Gate\\Anaconda2\\lib\\site-packages\\ipykernel_launcher.py:4: FutureWarning: from_csv is deprecated. Please use read_csv(...) instead. Note that some of the default arguments are different, so please refer to the documentation for from_csv when changing your function calls\n",
      "  after removing the cwd from sys.path.\n",
      "C:\\Users\\Anurag Gate\\Anaconda2\\lib\\site-packages\\ipykernel_launcher.py:5: FutureWarning: from_csv is deprecated. Please use read_csv(...) instead. Note that some of the default arguments are different, so please refer to the documentation for from_csv when changing your function calls\n",
      "  \"\"\"\n"
     ]
    }
   ],
   "source": [
    "dataset=pd.DataFrame.from_csv('SCDB_2018_02_caseCentered_Citation.csv',header=0,index_col=None)\n",
    "variables = ['petitioner','petitionerState','respondent','respondentState','jurisdiction','threeJudgeFdc','caseOrigin','caseOriginState','caseSource','caseSourceState','lcDisagreement','certReason','lcDisposition','lcDispositionDirection','term','naturalCourt','chief','issue','issueArea','decisionDirection','decisionDirectionDissent','authorityDecision1','lawType','voteUnclear','majVotes','minVotes','partyWinning']\n",
    "dataset=dataset[variables]\n",
    "issues=pd.DataFrame.from_csv('issues.csv',header=0,index_col=None)\n",
    "state_codes=pd.DataFrame.from_csv('State_codes.csv',header=0,index_col=None)"
   ]
  },
  {
   "cell_type": "markdown",
   "metadata": {},
   "source": [
    "#### Dealing with Missing Values and Outliers:"
   ]
  },
  {
   "cell_type": "code",
   "execution_count": 3,
   "metadata": {},
   "outputs": [],
   "source": [
    "dataset['petitionerState'] = dataset['petitionerState'].fillna(0)\n",
    "dataset['respondentState'] = dataset['respondentState'].fillna(0)\n",
    "dataset['caseOriginState'] = dataset['caseOriginState'].fillna(0)\n",
    "dataset['caseSourceState'] = dataset['caseSourceState'].fillna(0)\n",
    "dataset['lcDisposition'] = dataset['lcDisposition'].fillna(0)\n",
    "dataset['lawType'] = dataset['lawType'].fillna(0)\n",
    "dataset=dataset.dropna()\n",
    "dataset=dataset[dataset ['partyWinning'] != 2]"
   ]
  },
  {
   "cell_type": "markdown",
   "metadata": {},
   "source": [
    "#### Enumerating the features of datatype string:"
   ]
  },
  {
   "cell_type": "code",
   "execution_count": 4,
   "metadata": {},
   "outputs": [],
   "source": [
    "chiefs=[]\n",
    "def assignChief(x):\n",
    "    if x in chiefs:\n",
    "        return chiefs.index(x)\n",
    "    else:\n",
    "        chiefs.append(x)\n",
    "        return chiefs.index(x) \n",
    "dataset['chief']=dataset['chief'].map(lambda x : assignChief(x))"
   ]
  },
  {
   "cell_type": "markdown",
   "metadata": {},
   "source": [
    "### Data Exploration:"
   ]
  },
  {
   "cell_type": "code",
   "execution_count": 5,
   "metadata": {},
   "outputs": [],
   "source": [
    "Is_data_balanced = dataset.partyWinning.value_counts()\n",
    "Is_data_balanced = Is_data_balanced.reset_index()"
   ]
  },
  {
   "cell_type": "code",
   "execution_count": 6,
   "metadata": {},
   "outputs": [
    {
     "name": "stderr",
     "output_type": "stream",
     "text": [
      "C:\\Users\\Anurag Gate\\Anaconda2\\lib\\site-packages\\seaborn\\categorical.py:3666: UserWarning: The `factorplot` function has been renamed to `catplot`. The original name will be removed in a future release. Please update your code. Note that the default `kind` in `factorplot` (`'point'`) has changed `'strip'` in `catplot`.\n",
      "  warnings.warn(msg)\n",
      "C:\\Users\\Anurag Gate\\Anaconda2\\lib\\site-packages\\seaborn\\categorical.py:3672: UserWarning: The `size` paramter has been renamed to `height`; please update your code.\n",
      "  warnings.warn(msg, UserWarning)\n"
     ]
    },
    {
     "data": {
      "image/png": "[encoded data removed]",
      "text/plain": [
       "<Figure size 576x288 with 1 Axes>"
      ]
     },
     "metadata": {
      "needs_background": "light"
     },
     "output_type": "display_data"
    }
   ],
   "source": [
    "import seaborn as sns\n",
    "g= sns.factorplot(x=\"index\",y=\"partyWinning\",data=Is_data_balanced,kind=\"bar\",aspect=2, size=4)\n",
    "new_labels = ['Petitioner_won', 'Petitioner_lost']\n",
    "plt.show()"
   ]
  },
  {
   "cell_type": "markdown",
   "metadata": {},
   "source": [
    "#### We can see that the data is imbalanced and can result into wrong accuracy of the model. Thus to avoid imbalanced classification, we will be using Random Upsampling to improve our model."
   ]
  },
  {
   "cell_type": "markdown",
   "metadata": {},
   "source": [
    "#### Balancing the dataset:"
   ]
  },
  {
   "cell_type": "code",
   "execution_count": 7,
   "metadata": {},
   "outputs": [
    {
     "name": "stderr",
     "output_type": "stream",
     "text": [
      "C:\\Users\\Anurag Gate\\Anaconda2\\lib\\site-packages\\seaborn\\categorical.py:3666: UserWarning: The `factorplot` function has been renamed to `catplot`. The original name will be removed in a future release. Please update your code. Note that the default `kind` in `factorplot` (`'point'`) has changed `'strip'` in `catplot`.\n",
      "  warnings.warn(msg)\n",
      "C:\\Users\\Anurag Gate\\Anaconda2\\lib\\site-packages\\seaborn\\categorical.py:3672: UserWarning: The `size` paramter has been renamed to `height`; please update your code.\n",
      "  warnings.warn(msg, UserWarning)\n"
     ]
    },
    {
     "data": {
      "image/png": "[encoded data removed]",
      "text/plain": [
       "<Figure size 576x288 with 1 Axes>"
      ]
     },
     "metadata": {
      "needs_background": "light"
     },
     "output_type": "display_data"
    }
   ],
   "source": [
    "df_majority = dataset[dataset.partyWinning==1]\n",
    "df_minority = dataset[dataset.partyWinning==0]\n",
    "from sklearn.utils import resample\n",
    "df_minority_upsampled = resample(df_minority, \n",
    "                                 replace=True,     # sample with replacement\n",
    "                                 n_samples=5426,    # to match majority class\n",
    "                                 random_state=123) # reproducible results\n",
    " \n",
    "# Combine majority class with upsampled minority class\n",
    "df_upsampled = pd.concat([df_majority, df_minority_upsampled])\n",
    " \n",
    "original_data = dataset\n",
    "dataset=df_upsampled\n",
    "# Display new class counts\n",
    "Is_data_balanced = dataset.partyWinning.value_counts()\n",
    "Is_data_balanced = Is_data_balanced.reset_index()\n",
    "g= sns.factorplot(x=\"index\",y=\"partyWinning\",data=Is_data_balanced,kind=\"bar\",aspect=2, size=4)\n",
    "new_labels = ['Petitioner_won', 'Petitioner_lost']\n",
    "plt.show()"
   ]
  },
  {
   "cell_type": "markdown",
   "metadata": {},
   "source": [
    "#### Segmenting Years into decades:"
   ]
  },
  {
   "cell_type": "code",
   "execution_count": 8,
   "metadata": {},
   "outputs": [],
   "source": [
    "original_data['decades']=pd.cut(original_data['term'],[1940,1950,1960,1970,1980,1990,2000,2010,2020],\\\n",
    "                    labels=['1940-1949','1950-1959','1960-1969','1970-1979','1980-1989','1990-1999','2000-2009','2010-present'])"
   ]
  },
  {
   "cell_type": "markdown",
   "metadata": {},
   "source": [
    "#### Data Exploration - Finding the Winning Rate of the petitioners across various issues:"
   ]
  },
  {
   "cell_type": "code",
   "execution_count": 9,
   "metadata": {},
   "outputs": [
    {
     "data": {
      "image/png": "[encoded data removed]",
      "text/plain": [
       "<Figure size 1080x360 with 1 Axes>"
      ]
     },
     "metadata": {
      "needs_background": "light"
     },
     "output_type": "display_data"
    }
   ],
   "source": [
    "df_winningrate = (original_data[(original_data.partyWinning==1)].groupby(['issueArea','partyWinning'])['issue'].count()/\\\n",
    "original_data.groupby('issueArea')['partyWinning'].count()*100).reset_index().rename(columns={0:'Winning Rate'})\n",
    "df_winningrate=df_winningrate.sort_values(by=['Winning Rate'],ascending=False)\n",
    "df_winningVsissue = df_winningrate.merge(issues, how='inner')\n",
    "df_winningVsissue.plot(x='Issue',y='Winning Rate',kind='bar',colormap='summer',figsize=[15,5], yticks=np.arange(0,100,step=10))\n",
    "plt.show()"
   ]
  },
  {
   "cell_type": "markdown",
   "metadata": {},
   "source": [
    "#### Data Exploration - A look into number of petitions and petitions won over the last few decades :"
   ]
  },
  {
   "cell_type": "code",
   "execution_count": 10,
   "metadata": {},
   "outputs": [
    {
     "data": {
      "image/png": "[encoded data removed]",
      "text/plain": [
       "<Figure size 720x720 with 1 Axes>"
      ]
     },
     "metadata": {
      "needs_background": "light"
     },
     "output_type": "display_data"
    }
   ],
   "source": [
    "df_totalcases = original_data.groupby('decades')['petitioner'].count()\n",
    "df_totalcases = df_totalcases.reset_index().rename(columns={'petitioner':'Total Cases'})\n",
    "df_caseswon = original_data[(original_data.partyWinning==1)].groupby('decades')['petitioner'].count()\\\n",
    "    .reset_index().rename(columns={'petitioner':'Cases Won'})\n",
    "df_totalcases=df_totalcases.merge(df_caseswon,how='inner')\n",
    "df_totalcases.plot(x='decades',y=['Total Cases','Cases Won'], kind = 'bar',figsize=(10,10), colormap='bwr')\n",
    "plt.show()"
   ]
  },
  {
   "cell_type": "markdown",
   "metadata": {},
   "source": [
    "#### Data Exploration - Top 5 States in the US filing petitions in the United States Supreme Court :"
   ]
  },
  {
   "cell_type": "code",
   "execution_count": 11,
   "metadata": {},
   "outputs": [
    {
     "data": {
      "image/png": "[encoded data removed]",
      "text/plain": [
       "<Figure size 720x720 with 1 Axes>"
      ]
     },
     "metadata": {
      "needs_background": "light"
     },
     "output_type": "display_data"
    }
   ],
   "source": [
    "df_states = original_data[original_data.petitionerState !=0]\n",
    "df_states = df_states.groupby('petitionerState')['petitioner'].count()\n",
    "df_state_max = df_states.reset_index().rename(columns={'petitioner':'Total cases'}).nlargest(5,'Total cases')\n",
    "df_states_final = df_state_max.merge(state_codes, how='inner')\n",
    "df_states_final.plot(x='State',y='Total cases', kind = 'bar',figsize=(10,10), colormap='Accent')\n",
    "plt.show()"
   ]
  },
  {
   "cell_type": "markdown",
   "metadata": {},
   "source": [
    "### Defining x, y and spliting the data into Train and Test sets:"
   ]
  },
  {
   "cell_type": "code",
   "execution_count": 12,
   "metadata": {},
   "outputs": [
    {
     "name": "stderr",
     "output_type": "stream",
     "text": [
      "C:\\Users\\Anurag Gate\\Anaconda2\\lib\\site-packages\\sklearn\\cross_validation.py:41: DeprecationWarning: This module was deprecated in version 0.18 in favor of the model_selection module into which all the refactored classes and functions are moved. Also note that the interface of the new CV iterators are different from that of this module. This module will be removed in 0.20.\n",
      "  \"This module will be removed in 0.20.\", DeprecationWarning)\n"
     ]
    }
   ],
   "source": [
    "x=dataset.drop('partyWinning',axis=1)\n",
    "y=dataset['partyWinning']\n",
    "from sklearn import cross_validation\n",
    "X_train, X_test, y_train, y_test = cross_validation.train_test_split(x, y, test_size=0.2,random_state=42)"
   ]
  },
  {
   "cell_type": "markdown",
   "metadata": {},
   "source": [
    "### Model 1 - Logistic Regression"
   ]
  },
  {
   "cell_type": "code",
   "execution_count": 13,
   "metadata": {},
   "outputs": [
    {
     "name": "stdout",
     "output_type": "stream",
     "text": [
      "Accuracy of Logistic Regression Model:  0.5992630124366651\n"
     ]
    }
   ],
   "source": [
    "from sklearn.linear_model import LogisticRegression\n",
    "model = LogisticRegression()\n",
    "model.fit(X_train,y_train)\n",
    "y_pred = model.predict(X_test)\n",
    "print 'Accuracy of Logistic Regression Model: ', accuracy_score(y_test,y_pred)"
   ]
  },
  {
   "cell_type": "markdown",
   "metadata": {},
   "source": [
    "#### Parameter Tuning using GridSearchCV:"
   ]
  },
  {
   "cell_type": "code",
   "execution_count": 14,
   "metadata": {},
   "outputs": [
    {
     "name": "stderr",
     "output_type": "stream",
     "text": [
      "C:\\Users\\Anurag Gate\\Anaconda2\\lib\\site-packages\\sklearn\\grid_search.py:42: DeprecationWarning: This module was deprecated in version 0.18 in favor of the model_selection module into which all the refactored classes and functions are moved. This module will be removed in 0.20.\n",
      "  DeprecationWarning)\n"
     ]
    }
   ],
   "source": [
    "from sklearn.grid_search import GridSearchCV\n",
    "def parameter_tuning(model,params):\n",
    "    param_grid = params\n",
    "    grid_model = model\n",
    "    grid = GridSearchCV(grid_model, param_grid, cv=2, n_jobs=-1)\n",
    "    grid.fit(X_train,y_train)\n",
    "    return grid.best_estimator_"
   ]
  },
  {
   "cell_type": "code",
   "execution_count": 15,
   "metadata": {},
   "outputs": [
    {
     "name": "stdout",
     "output_type": "stream",
     "text": [
      "Accuracy of Logistic Regression Model after Parameter tuning :  0.6020267157991709\n"
     ]
    }
   ],
   "source": [
    "lr_classifierModel = LogisticRegression()\n",
    "param_grid = {'C': np.linspace(0.1,100,101),'penalty' : ['l1', 'l2']}\n",
    "lr_best_estimator=parameter_tuning(lr_classifierModel,param_grid)\n",
    "lr_classifierModel = LogisticRegression(C=lr_best_estimator.C,penalty=lr_best_estimator.penalty)\n",
    "lr_classifierModel=lr_classifierModel.fit(X_train,y_train)\n",
    "lr_y_predictions = lr_classifierModel.predict(X_test)\n",
    "print 'Accuracy of Logistic Regression Model after Parameter tuning : ', accuracy_score(y_test,lr_y_predictions)"
   ]
  },
  {
   "cell_type": "code",
   "execution_count": 16,
   "metadata": {},
   "outputs": [
    {
     "name": "stdout",
     "output_type": "stream",
     "text": [
      "The value of C and penalty after parameter tuning is: 82.018 and  l1 respectively\n"
     ]
    }
   ],
   "source": [
    "print \"The value of C and penalty after parameter tuning is:\", lr_best_estimator.C, \"and \", lr_best_estimator.penalty, \"respectively\""
   ]
  },
  {
   "cell_type": "markdown",
   "metadata": {},
   "source": [
    "#### Feature Engineering using Recursive Feature Elimination:"
   ]
  },
  {
   "cell_type": "code",
   "execution_count": 17,
   "metadata": {},
   "outputs": [],
   "source": [
    "from sklearn.feature_selection import RFE\n",
    "def Feature_engineering(model):\n",
    "    rfe = RFE(estimator=model, n_features_to_select=1, step=1)\n",
    "    fit = rfe.fit(X_train, y_train)\n",
    "    ranking_array =[]\n",
    "    ranking_array=fit.ranking_.tolist()\n",
    "    feature_index=[]\n",
    "    features=[]\n",
    "    feature_list = []\n",
    "    for ranks in ranking_array:\n",
    "        feature_index.append(ranking_array.index(ranks))\n",
    "        feature_list = x.columns[ranking_array.index(ranks)]\n",
    "        features.append({'feature': feature_list,'rank':ranks})\n",
    "    features=pd.DataFrame(features)\n",
    "    sorted_features = features.sort_values(by=['rank'])\n",
    "    return sorted_features # Features with their ranking"
   ]
  },
  {
   "cell_type": "code",
   "execution_count": 18,
   "metadata": {},
   "outputs": [
    {
     "name": "stdout",
     "output_type": "stream",
     "text": [
      "Top 5 Features:\n"
     ]
    },
    {
     "data": {
      "text/html": [
       "<div>\n",
       "<style scoped>\n",
       "    .dataframe tbody tr th:only-of-type {\n",
       "        vertical-align: middle;\n",
       "    }\n",
       "\n",
       "    .dataframe tbody tr th {\n",
       "        vertical-align: top;\n",
       "    }\n",
       "\n",
       "    .dataframe thead th {\n",
       "        text-align: right;\n",
       "    }\n",
       "</style>\n",
       "<table border=\"1\" class=\"dataframe\">\n",
       "  <thead>\n",
       "    <tr style=\"text-align: right;\">\n",
       "      <th></th>\n",
       "      <th>feature</th>\n",
       "      <th>rank</th>\n",
       "    </tr>\n",
       "  </thead>\n",
       "  <tbody>\n",
       "    <tr>\n",
       "      <th>20</th>\n",
       "      <td>decisionDirectionDissent</td>\n",
       "      <td>1</td>\n",
       "    </tr>\n",
       "    <tr>\n",
       "      <th>19</th>\n",
       "      <td>decisionDirection</td>\n",
       "      <td>2</td>\n",
       "    </tr>\n",
       "    <tr>\n",
       "      <th>10</th>\n",
       "      <td>lcDisagreement</td>\n",
       "      <td>3</td>\n",
       "    </tr>\n",
       "    <tr>\n",
       "      <th>23</th>\n",
       "      <td>voteUnclear</td>\n",
       "      <td>4</td>\n",
       "    </tr>\n",
       "    <tr>\n",
       "      <th>25</th>\n",
       "      <td>minVotes</td>\n",
       "      <td>5</td>\n",
       "    </tr>\n",
       "  </tbody>\n",
       "</table>\n",
       "</div>"
      ],
      "text/plain": [
       "                     feature  rank\n",
       "20  decisionDirectionDissent     1\n",
       "19         decisionDirection     2\n",
       "10            lcDisagreement     3\n",
       "23               voteUnclear     4\n",
       "25                  minVotes     5"
      ]
     },
     "execution_count": 18,
     "metadata": {},
     "output_type": "execute_result"
    }
   ],
   "source": [
    "sorted_features = Feature_engineering(LogisticRegression(C=lr_best_estimator.C, penalty=lr_best_estimator.penalty))\n",
    "print 'Top 5 Features:'\n",
    "sorted_features.head()"
   ]
  },
  {
   "cell_type": "markdown",
   "metadata": {},
   "source": [
    "#### Adding Features according to rank and check the accuracy of the model:"
   ]
  },
  {
   "cell_type": "code",
   "execution_count": 19,
   "metadata": {},
   "outputs": [
    {
     "data": {
      "image/png": "[encoded data removed]",
      "text/plain": [
       "<Figure size 432x288 with 1 Axes>"
      ]
     },
     "metadata": {
      "needs_background": "light"
     },
     "output_type": "display_data"
    }
   ],
   "source": [
    "from sklearn.metrics import f1_score\n",
    "accuracy_data=[]\n",
    "for i in range(0,len(sorted_features)):\n",
    "    X_train, X_test, y_train, y_test = cross_validation.train_test_split(x[sorted_features['feature'][:i+1]], y, test_size=0.2)\n",
    "    #classifierModel_new = LogisticRegression()\n",
    "    classifierModel_new = LogisticRegression(C=lr_best_estimator.C,penalty=lr_best_estimator.penalty)\n",
    "    classifierModel_new.fit(X_train, y_train)\n",
    "    y_predicted_lr =  classifierModel_new.predict(X_test)\n",
    "    accuracy=accuracy_score(y_test,y_predicted_lr)\n",
    "    f1=f1_score(y_test,y_predicted_lr)\n",
    "    accuracy_data.append({'features': sorted_features['feature'][:i+1] ,'length': i+1, 'accuracy': accuracy,'f1': f1})\n",
    "accuracy_df=pd.DataFrame(accuracy_data)\n",
    "plt.plot(accuracy_df['length'],accuracy_df['accuracy'],color='blue',)\n",
    "plt.show()"
   ]
  },
  {
   "cell_type": "code",
   "execution_count": 20,
   "metadata": {},
   "outputs": [
    {
     "name": "stdout",
     "output_type": "stream",
     "text": [
      "The Maximum Accuracy Logistic Regression can achieve is : 0.6328880700138185\n"
     ]
    }
   ],
   "source": [
    "max_accuracy =accuracy_df.sort_values(by=['accuracy'],ascending=False).reset_index().accuracy[0]\n",
    "print 'The Maximum Accuracy Logistic Regression can achieve is :',max_accuracy"
   ]
  },
  {
   "cell_type": "markdown",
   "metadata": {},
   "source": [
    "#### Confusion Matrix, Precision  and Recall Score of Logistic Regression:"
   ]
  },
  {
   "cell_type": "code",
   "execution_count": 21,
   "metadata": {},
   "outputs": [],
   "source": [
    "class_names=['0','1']\n",
    "def plot_confusion_matrix(cm, classes, title='Confusion matrix', cmap=plt.cm.Reds):\n",
    "    \"\"\"\n",
    "    This function prints and plots the confusion matrix.\n",
    "    Normalization can be applied by setting `normalize=True`.\n",
    "    \"\"\"        \n",
    "    plt.imshow(cm, interpolation='nearest', cmap=cmap)\n",
    "    plt.title(title)\n",
    "    tick_marks = np.arange(len(classes))\n",
    "    plt.xticks(tick_marks, classes, rotation=0)\n",
    "    plt.yticks(tick_marks, classes)\n",
    "    \n",
    "    name = None    \n",
    "    fmt = 'd'\n",
    "    thresh = cm.max() / 2\n",
    "    # i and j tell us the coordinates of boxes\n",
    "    for i, j in itertools.product(range(cm.shape[0]), range(cm.shape[1])):\n",
    "        if i == 0 and j == 0:\n",
    "            name = \"True Negatives\"\n",
    "        elif i == 0 and j == 1:\n",
    "            name = \"False Positives\"\n",
    "        elif i == 1 and j == 1:\n",
    "            name = \"True Positives\"\n",
    "        else:\n",
    "            name = \"False Negatives\"\n",
    "        plt.text(j, i, format(cm[i, j], fmt) + \"\\n\" + name, horizontalalignment=\"center\", \n",
    "                 fontsize=23, color=\"black\" if cm[i, j] > thresh else \"black\")\n",
    "\n",
    "    plt.ylabel('True label', labelpad=12)\n",
    "    plt.xlabel('Predicted label', labelpad=12)\n",
    "    plt.title(title, y=1.02)\n",
    "    plt.tight_layout()"
   ]
  },
  {
   "cell_type": "code",
   "execution_count": 22,
   "metadata": {},
   "outputs": [
    {
     "data": {
      "image/png": "[encoded data removed]",
      "text/plain": [
       "<Figure size 504x504 with 1 Axes>"
      ]
     },
     "metadata": {
      "needs_background": "light"
     },
     "output_type": "display_data"
    }
   ],
   "source": [
    "# Compute confusion matrix\n",
    "cnf_matrix = confusion_matrix(y_test, y_predicted_lr);\n",
    "np.set_printoptions(precision=2);\n",
    "\n",
    "# Plot non-normalized confusion matrix\n",
    "plt.figure(figsize=(7, 7))\n",
    "plt.grid(False)\n",
    "plot_confusion_matrix(cnf_matrix, classes=class_names, title='Confusion matrix, without normalization')\n",
    "plt.show()"
   ]
  },
  {
   "cell_type": "code",
   "execution_count": 23,
   "metadata": {},
   "outputs": [
    {
     "name": "stdout",
     "output_type": "stream",
     "text": [
      "The recall_score is :  0.6018264840182649\n",
      "The precision_score is :  0.6246445497630332\n"
     ]
    }
   ],
   "source": [
    "from sklearn.metrics import recall_score,precision_score\n",
    "print \"The recall_score is : \", recall_score(y_test,y_predicted_lr)\n",
    "print \"The precision_score is : \", precision_score(y_test,y_predicted_lr)"
   ]
  },
  {
   "cell_type": "markdown",
   "metadata": {},
   "source": [
    "### Why is Logistic Regression Performing badly?"
   ]
  },
  {
   "cell_type": "markdown",
   "metadata": {},
   "source": [
    "#### Checking Performance of Logistic Regression on Training data:"
   ]
  },
  {
   "cell_type": "code",
   "execution_count": 24,
   "metadata": {},
   "outputs": [
    {
     "name": "stdout",
     "output_type": "stream",
     "text": [
      "Train Data Accuracy: 0.6162884460315632\n"
     ]
    }
   ],
   "source": [
    "#classifierModel_new = LogisticRegression(C=lr_best_estimator.C,penalty=lr_best_estimator.penalty)\n",
    "classifierModel = LogisticRegression(C=lr_best_estimator.C, penalty=lr_best_estimator.penalty)\n",
    "my_model = classifierModel.fit(X_train, y_train)\n",
    "y_pre = my_model.predict(X_train)\n",
    "print \"Train Data Accuracy:\", accuracy_score(y_train,y_pre)"
   ]
  },
  {
   "cell_type": "markdown",
   "metadata": {},
   "source": [
    "#### Checking Performance of Logistic Regression on Test data:"
   ]
  },
  {
   "cell_type": "code",
   "execution_count": 25,
   "metadata": {},
   "outputs": [
    {
     "name": "stdout",
     "output_type": "stream",
     "text": [
      "Test Data Accuracy: 0.6167664670658682\n"
     ]
    }
   ],
   "source": [
    "y_pre = my_model.predict(X_test)\n",
    "print \"Test Data Accuracy:\", accuracy_score(y_test,y_pre)"
   ]
  },
  {
   "cell_type": "markdown",
   "metadata": {},
   "source": [
    "#### Logistic Regression performs badly on Test as well as Train data suggesting that the model is high biased model and cannot pick up the patterns in the dataset."
   ]
  },
  {
   "cell_type": "markdown",
   "metadata": {},
   "source": [
    "### Model 2 - Random Forest"
   ]
  },
  {
   "cell_type": "code",
   "execution_count": 26,
   "metadata": {},
   "outputs": [
    {
     "name": "stdout",
     "output_type": "stream",
     "text": [
      "Accuracy of Random Forest Classifier Model:  0.973284200829111\n"
     ]
    },
    {
     "name": "stderr",
     "output_type": "stream",
     "text": [
      "C:\\Users\\Anurag Gate\\Anaconda2\\lib\\site-packages\\sklearn\\ensemble\\weight_boosting.py:29: DeprecationWarning: numpy.core.umath_tests is an internal NumPy module and should not be imported. It will be removed in a future NumPy release.\n",
      "  from numpy.core.umath_tests import inner1d\n"
     ]
    }
   ],
   "source": [
    "from sklearn.ensemble import RandomForestClassifier\n",
    "model = RandomForestClassifier()\n",
    "model.fit(X_train,y_train)\n",
    "y_pred = model.predict(X_test)\n",
    "print 'Accuracy of Random Forest Classifier Model: ', accuracy_score(y_test,y_pred)"
   ]
  },
  {
   "cell_type": "markdown",
   "metadata": {},
   "source": [
    "#### Parameter Tuning using GridSearchCV:"
   ]
  },
  {
   "cell_type": "code",
   "execution_count": 27,
   "metadata": {},
   "outputs": [
    {
     "name": "stdout",
     "output_type": "stream",
     "text": [
      "Accuracy of Random Forest Model after Parameter tuning :  0.981114693689544\n"
     ]
    }
   ],
   "source": [
    "rf_classifierModel = RandomForestClassifier(n_estimators=100, n_jobs=-1)\n",
    "param_grid = {'max_depth': [10, 20, 30, 40]}\n",
    "rf_best_estimator=parameter_tuning(rf_classifierModel,param_grid)\n",
    "rf_classifierModel = RandomForestClassifier(n_estimators=100, n_jobs=-1, max_depth=rf_best_estimator.max_depth)\n",
    "rf_classifierModel=rf_classifierModel.fit(X_train,y_train)\n",
    "rf_y_predictions = rf_classifierModel.predict(X_test)\n",
    "print 'Accuracy of Random Forest Model after Parameter tuning : ', accuracy_score(y_test,rf_y_predictions)"
   ]
  },
  {
   "cell_type": "code",
   "execution_count": 28,
   "metadata": {},
   "outputs": [
    {
     "name": "stdout",
     "output_type": "stream",
     "text": [
      "The value of maximum depth after parameter tuning is: 40\n"
     ]
    }
   ],
   "source": [
    "print \"The value of maximum depth after parameter tuning is:\", rf_best_estimator.max_depth"
   ]
  },
  {
   "cell_type": "markdown",
   "metadata": {},
   "source": [
    "#### We will be using the above parameter in our model to avoid overfitting of data"
   ]
  },
  {
   "cell_type": "markdown",
   "metadata": {},
   "source": [
    "#### Feature Engineering using Recursive Feature Elimination:"
   ]
  },
  {
   "cell_type": "code",
   "execution_count": 29,
   "metadata": {},
   "outputs": [
    {
     "name": "stdout",
     "output_type": "stream",
     "text": [
      "Top 5 Features:\n"
     ]
    },
    {
     "data": {
      "text/html": [
       "<div>\n",
       "<style scoped>\n",
       "    .dataframe tbody tr th:only-of-type {\n",
       "        vertical-align: middle;\n",
       "    }\n",
       "\n",
       "    .dataframe tbody tr th {\n",
       "        vertical-align: top;\n",
       "    }\n",
       "\n",
       "    .dataframe thead th {\n",
       "        text-align: right;\n",
       "    }\n",
       "</style>\n",
       "<table border=\"1\" class=\"dataframe\">\n",
       "  <thead>\n",
       "    <tr style=\"text-align: right;\">\n",
       "      <th></th>\n",
       "      <th>feature</th>\n",
       "      <th>rank</th>\n",
       "    </tr>\n",
       "  </thead>\n",
       "  <tbody>\n",
       "    <tr>\n",
       "      <th>25</th>\n",
       "      <td>minVotes</td>\n",
       "      <td>1</td>\n",
       "    </tr>\n",
       "    <tr>\n",
       "      <th>23</th>\n",
       "      <td>voteUnclear</td>\n",
       "      <td>2</td>\n",
       "    </tr>\n",
       "    <tr>\n",
       "      <th>24</th>\n",
       "      <td>majVotes</td>\n",
       "      <td>3</td>\n",
       "    </tr>\n",
       "    <tr>\n",
       "      <th>1</th>\n",
       "      <td>petitionerState</td>\n",
       "      <td>4</td>\n",
       "    </tr>\n",
       "    <tr>\n",
       "      <th>22</th>\n",
       "      <td>lawType</td>\n",
       "      <td>5</td>\n",
       "    </tr>\n",
       "  </tbody>\n",
       "</table>\n",
       "</div>"
      ],
      "text/plain": [
       "            feature  rank\n",
       "25         minVotes     1\n",
       "23      voteUnclear     2\n",
       "24         majVotes     3\n",
       "1   petitionerState     4\n",
       "22          lawType     5"
      ]
     },
     "execution_count": 29,
     "metadata": {},
     "output_type": "execute_result"
    }
   ],
   "source": [
    "sorted_features = Feature_engineering(RandomForestClassifier(n_estimators=100, n_jobs=-1,max_depth=rf_best_estimator.max_depth))\n",
    "print 'Top 5 Features:'\n",
    "sorted_features.head()"
   ]
  },
  {
   "cell_type": "markdown",
   "metadata": {},
   "source": [
    "#### Adding Features according to rank and check the accuracy of the model:"
   ]
  },
  {
   "cell_type": "code",
   "execution_count": 30,
   "metadata": {},
   "outputs": [
    {
     "data": {
      "image/png": "[encoded data removed]",
      "text/plain": [
       "<Figure size 432x288 with 1 Axes>"
      ]
     },
     "metadata": {
      "needs_background": "light"
     },
     "output_type": "display_data"
    }
   ],
   "source": [
    "accuracy_data=[]\n",
    "for i in range(0,len(sorted_features)):\n",
    "    X_train, X_test, y_train, y_test = cross_validation.train_test_split(x[sorted_features['feature'][:i+1]], y, test_size=0.2)\n",
    "    rf_new = RandomForestClassifier(n_estimators=100, n_jobs=-1, max_depth=rf_best_estimator.max_depth)\n",
    "    rf_new.fit(X_train, y_train)\n",
    "    y_predicted_rf =  rf_new.predict(X_test)\n",
    "    accuracy=accuracy_score(y_test,y_predicted_rf)\n",
    "    accuracy_data.append({'features': sorted_features['feature'][:i+1] ,'length': i+1, 'accuracy': accuracy})\n",
    "accuracy_df=pd.DataFrame(accuracy_data)\n",
    "plt.plot(accuracy_df['length'],accuracy_df['accuracy'],color='red')\n",
    "plt.show()"
   ]
  },
  {
   "cell_type": "code",
   "execution_count": 31,
   "metadata": {},
   "outputs": [
    {
     "name": "stdout",
     "output_type": "stream",
     "text": [
      "The Maximum Accuracy Random Forest can achieve is : 0.9820359281437125\n"
     ]
    }
   ],
   "source": [
    "max_accuracy =accuracy_df.sort_values(by=['accuracy'],ascending=False).reset_index().accuracy[0]\n",
    "print 'The Maximum Accuracy Random Forest can achieve is :',max_accuracy"
   ]
  },
  {
   "cell_type": "markdown",
   "metadata": {},
   "source": [
    "#### Confusion Matrix, Precision  and Recall Score of Random Forest:"
   ]
  },
  {
   "cell_type": "code",
   "execution_count": 32,
   "metadata": {},
   "outputs": [
    {
     "data": {
      "image/png": "[encoded data removed]",
      "text/plain": [
       "<Figure size 504x504 with 1 Axes>"
      ]
     },
     "metadata": {
      "needs_background": "light"
     },
     "output_type": "display_data"
    }
   ],
   "source": [
    "# Compute confusion matrix\n",
    "cnf_matrix = confusion_matrix(y_test, y_predicted_rf);\n",
    "np.set_printoptions(precision=2);\n",
    "\n",
    "# Plot non-normalized confusion matrix\n",
    "plt.figure(figsize=(7, 7))\n",
    "plt.grid(False)\n",
    "plot_confusion_matrix(cnf_matrix, classes=class_names, title='Confusion matrix, without normalization')\n",
    "plt.show()"
   ]
  },
  {
   "cell_type": "code",
   "execution_count": 33,
   "metadata": {},
   "outputs": [
    {
     "name": "stdout",
     "output_type": "stream",
     "text": [
      "The recall_score is :  0.9685114503816794\n",
      "The precision_score is :  0.9883154819863681\n"
     ]
    }
   ],
   "source": [
    "print \"The recall_score is : \", recall_score(y_test,y_predicted_rf)\n",
    "print \"The precision_score is : \", precision_score(y_test,y_predicted_rf)"
   ]
  },
  {
   "cell_type": "markdown",
   "metadata": {},
   "source": [
    "#### Checking if Random Forest is Overfitting the dataset?"
   ]
  },
  {
   "cell_type": "markdown",
   "metadata": {},
   "source": [
    "#### Checking Performance of Random Forest on Training data:"
   ]
  },
  {
   "cell_type": "code",
   "execution_count": 34,
   "metadata": {},
   "outputs": [
    {
     "name": "stdout",
     "output_type": "stream",
     "text": [
      "Train Data Accuracy: 1.0\n"
     ]
    }
   ],
   "source": [
    "rf = RandomForestClassifier(n_estimators=100, n_jobs=-1, max_depth=rf_best_estimator.max_depth)\n",
    "rf_model = rf.fit(X_train,y_train)\n",
    "y_pre_rf = rf_model.predict(X_train)\n",
    "accuracy_score(y_train,y_pre_rf)\n",
    "print \"Train Data Accuracy:\", accuracy_score(y_train,y_pre_rf)"
   ]
  },
  {
   "cell_type": "markdown",
   "metadata": {},
   "source": [
    "#### Checking Performance of Random Forest on Test data:"
   ]
  },
  {
   "cell_type": "code",
   "execution_count": 35,
   "metadata": {},
   "outputs": [
    {
     "name": "stdout",
     "output_type": "stream",
     "text": [
      "Test Data Accuracy: 0.9797328420082911\n"
     ]
    }
   ],
   "source": [
    "y_pre_rf = rf_model.predict(X_test)\n",
    "accuracy_score(y_test,y_pre_rf)\n",
    "print \"Test Data Accuracy:\", accuracy_score(y_test,y_pre_rf)"
   ]
  },
  {
   "cell_type": "markdown",
   "metadata": {},
   "source": [
    "#### Random Forest performs good on Train as well as Test data and Thus is not overfitting the data.\n",
    "#### Random Forest gives good accuracy, recall and precision score.\n",
    "#### We would recommend this algorithm for creating our Machine Learning Model."
   ]
  },
  {
   "cell_type": "markdown",
   "metadata": {},
   "source": [
    "### Insights from Data Analysis:"
   ]
  },
  {
   "cell_type": "markdown",
   "metadata": {},
   "source": [
    "#### Insight 1 : Liberal Vs Conservative Courts"
   ]
  },
  {
   "cell_type": "code",
   "execution_count": 36,
   "metadata": {},
   "outputs": [],
   "source": [
    "df = original_data[original_data.decisionDirection!=3]\n",
    "conservative_vs_liberal = df.groupby(['decisionDirection','issueArea'])['petitioner'].count().reset_index().rename(columns={'petitioner' : 'count'})"
   ]
  },
  {
   "cell_type": "code",
   "execution_count": 37,
   "metadata": {},
   "outputs": [
    {
     "name": "stderr",
     "output_type": "stream",
     "text": [
      "C:\\Users\\Anurag Gate\\Anaconda2\\lib\\site-packages\\seaborn\\categorical.py:3666: UserWarning: The `factorplot` function has been renamed to `catplot`. The original name will be removed in a future release. Please update your code. Note that the default `kind` in `factorplot` (`'point'`) has changed `'strip'` in `catplot`.\n",
      "  warnings.warn(msg)\n",
      "C:\\Users\\Anurag Gate\\Anaconda2\\lib\\site-packages\\seaborn\\categorical.py:3672: UserWarning: The `size` paramter has been renamed to `height`; please update your code.\n",
      "  warnings.warn(msg, UserWarning)\n"
     ]
    },
    {
     "data": {
      "image/png": "[encoded data removed]",
      "text/plain": [
       "<Figure size 1246.88x576 with 1 Axes>"
      ]
     },
     "metadata": {
      "needs_background": "light"
     },
     "output_type": "display_data"
    }
   ],
   "source": [
    "conservative_vs_liberal = conservative_vs_liberal.merge(issues, how='inner')\n",
    "g=sns.factorplot(x=\"count\",y=\"Issue\",hue=\"decisionDirection\",data=conservative_vs_liberal,kind=\"bar\",aspect=2, size=8)\n",
    "new_labels = ['Conservative', 'Liberal']\n",
    "for t, l in zip(g._legend.texts, new_labels): t.set_text(l)\n",
    "plt.show()"
   ]
  },
  {
   "cell_type": "markdown",
   "metadata": {},
   "source": [
    "In recent years, there has been a high percentage of liberal opinions. But voting liberally on a state law for drawing and quartering jaywalkers is different from voting to free a murderer.\n",
    "Thus as we can see, only in criminal proceedings, Privacy cases and Judicial power cases, the court seems to be mostly conservative.\n",
    "Reference:https://www.vox.com/mischiefs-of-faction/2016/2/22/11094172/supreme-court-conservative-liberal"
   ]
  },
  {
   "cell_type": "markdown",
   "metadata": {},
   "source": [
    "#### Hence, the court is usually liberal in various issue areas except in cases based on Criminal activity, Privacy cases and Judicial Power cases"
   ]
  },
  {
   "cell_type": "markdown",
   "metadata": {},
   "source": [
    "#### Insight 2 : Reversal Rate over the past 5 decades:"
   ]
  },
  {
   "cell_type": "code",
   "execution_count": 38,
   "metadata": {},
   "outputs": [],
   "source": [
    "affirm_reverse = original_data[(original_data.lcDisposition==2) | (original_data.lcDisposition==3) | (original_data.lcDisposition==4)]\n",
    "affirm_reverse_filtered= affirm_reverse[((affirm_reverse.lcDisposition==3) | (affirm_reverse.lcDisposition==4)) & (affirm_reverse.lcDispositionDirection!=3)]"
   ]
  },
  {
   "cell_type": "code",
   "execution_count": 39,
   "metadata": {},
   "outputs": [
    {
     "data": {
      "image/png": "[encoded data removed]",
      "text/plain": [
       "<Figure size 1080x576 with 1 Axes>"
      ]
     },
     "metadata": {
      "needs_background": "light"
     },
     "output_type": "display_data"
    }
   ],
   "source": [
    "affirm_reverse_count = affirm_reverse_filtered.groupby(['decades',])['petitioner'].count()/\\\n",
    "affirm_reverse[(affirm_reverse.lcDispositionDirection!=3)].groupby('decades')['petitioner'].count()*100\n",
    "affirm_reverse_count=affirm_reverse_count.reset_index().rename(columns = {'petitioner':'reversal rate'})\n",
    "reversal_rate = affirm_reverse_count[5:].reset_index()\n",
    "reversal_rate=affirm_reverse_count.drop([0,1,2])\n",
    "reversal_rate.plot(x='decades',y='reversal rate',kind='line',figsize=(15,8),colormap='autumn')\n",
    "plt.ylabel('Reversal Rate')\n",
    "plt.show()"
   ]
  },
  {
   "cell_type": "markdown",
   "metadata": {},
   "source": [
    "This decline in Reversal Rates indicate that we are gradually overcoming issues like variability and inconsistenecies in the laws and the courts are now firm about the constitutional provisions and important legal issues to be considered while giving a judgement.\n",
    "Reference:https://www.americanbar.org/content/dam/aba/migrated/intelprop/magazine/LandslideJan2010_Hofer.authcheckdam.pdf"
   ]
  },
  {
   "cell_type": "markdown",
   "metadata": {},
   "source": [
    "#### There has been a 10% decrease in the number of cases whose decision has been reversed by the superior court over the past  years."
   ]
  }
 ],
 "metadata": {
  "kernelspec": {
   "display_name": "Python 2",
   "language": "python",
   "name": "python2"
  },
  "language_info": {
   "codemirror_mode": {
    "name": "ipython",
    "version": 2
   },
   "file_extension": ".py",
   "mimetype": "text/x-python",
   "name": "python",
   "nbconvert_exporter": "python",
   "pygments_lexer": "ipython2",
   "version": "2.7.15"
  }
 },
 "nbformat": 4,
 "nbformat_minor": 2
}
